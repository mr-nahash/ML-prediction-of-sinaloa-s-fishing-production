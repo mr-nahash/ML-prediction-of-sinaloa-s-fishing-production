{
 "cells": [
  {
   "cell_type": "markdown",
   "metadata": {},
   "source": [
    "# EDA"
   ]
  },
  {
   "cell_type": "code",
   "execution_count": 56,
   "metadata": {},
   "outputs": [
    {
     "name": "stdout",
     "output_type": "stream",
     "text": [
      "Requirement already satisfied: matplotlib in c:\\users\\fer-h\\appdata\\local\\programs\\python\\python310\\lib\\site-packages (3.5.1)\n",
      "Requirement already satisfied: kiwisolver>=1.0.1 in c:\\users\\fer-h\\appdata\\local\\programs\\python\\python310\\lib\\site-packages (from matplotlib) (1.4.0)\n",
      "Requirement already satisfied: numpy>=1.17 in c:\\users\\fer-h\\appdata\\local\\programs\\python\\python310\\lib\\site-packages (from matplotlib) (1.22.3)\n",
      "Requirement already satisfied: python-dateutil>=2.7 in c:\\users\\fer-h\\appdata\\roaming\\python\\python310\\site-packages (from matplotlib) (2.8.2)\n",
      "Requirement already satisfied: pillow>=6.2.0 in c:\\users\\fer-h\\appdata\\local\\programs\\python\\python310\\lib\\site-packages (from matplotlib) (9.0.1)\n",
      "Requirement already satisfied: fonttools>=4.22.0 in c:\\users\\fer-h\\appdata\\local\\programs\\python\\python310\\lib\\site-packages (from matplotlib) (4.30.0)\n",
      "Requirement already satisfied: packaging>=20.0 in c:\\users\\fer-h\\appdata\\local\\programs\\python\\python310\\lib\\site-packages (from matplotlib) (21.3)\n",
      "Requirement already satisfied: cycler>=0.10 in c:\\users\\fer-h\\appdata\\local\\programs\\python\\python310\\lib\\site-packages (from matplotlib) (0.11.0)\n",
      "Requirement already satisfied: pyparsing>=2.2.1 in c:\\users\\fer-h\\appdata\\local\\programs\\python\\python310\\lib\\site-packages (from matplotlib) (3.0.7)\n",
      "Requirement already satisfied: six>=1.5 in c:\\users\\fer-h\\appdata\\local\\programs\\python\\python310\\lib\\site-packages (from python-dateutil>=2.7->matplotlib) (1.16.0)\n",
      "Note: you may need to restart the kernel to use updated packages.\n"
     ]
    },
    {
     "name": "stderr",
     "output_type": "stream",
     "text": [
      "WARNING: You are using pip version 21.2.4; however, version 22.0.4 is available.\n",
      "You should consider upgrading via the 'C:\\Users\\fer-h\\AppData\\Local\\Programs\\Python\\Python310\\python.exe -m pip install --upgrade pip' command.\n"
     ]
    }
   ],
   "source": [
    "import pandas as pd\n",
    "import numpy as np\n",
    "import pandas as pd\n",
    "import seaborn as sns\n",
    "import matplotlib.pyplot as plt\n",
    "%pip install matplotlib"
   ]
  },
  {
   "cell_type": "code",
   "execution_count": 57,
   "metadata": {},
   "outputs": [
    {
     "data": {
      "text/html": [
       "<div>\n",
       "<style scoped>\n",
       "    .dataframe tbody tr th:only-of-type {\n",
       "        vertical-align: middle;\n",
       "    }\n",
       "\n",
       "    .dataframe tbody tr th {\n",
       "        vertical-align: top;\n",
       "    }\n",
       "\n",
       "    .dataframe thead th {\n",
       "        text-align: right;\n",
       "    }\n",
       "</style>\n",
       "<table border=\"1\" class=\"dataframe\">\n",
       "  <thead>\n",
       "    <tr style=\"text-align: right;\">\n",
       "      <th></th>\n",
       "      <th>FECHA</th>\n",
       "      <th>ESTADO</th>\n",
       "      <th>OFICINA</th>\n",
       "      <th>MES DE CORTE</th>\n",
       "      <th>ORIGEN</th>\n",
       "      <th>ESPECIE</th>\n",
       "      <th>PESO DESEMBARCADO KILOGRAMOS</th>\n",
       "      <th>PESO VIVO KILOGRAMOS</th>\n",
       "      <th>VALOR PESOS</th>\n",
       "      <th>FAMILIA</th>\n",
       "    </tr>\n",
       "  </thead>\n",
       "  <tbody>\n",
       "    <tr>\n",
       "      <th>0</th>\n",
       "      <td>2017.0</td>\n",
       "      <td>BAJA CALIFORNIA</td>\n",
       "      <td>SAN FELIPE</td>\n",
       "      <td>JULIO</td>\n",
       "      <td>CAPTURA</td>\n",
       "      <td>ABADEJO</td>\n",
       "      <td>94.0</td>\n",
       "      <td>94.0</td>\n",
       "      <td>3.119693e+03</td>\n",
       "      <td>MERO</td>\n",
       "    </tr>\n",
       "    <tr>\n",
       "      <th>1</th>\n",
       "      <td>2017.0</td>\n",
       "      <td>BAJA CALIFORNIA</td>\n",
       "      <td>SAN FELIPE</td>\n",
       "      <td>JULIO</td>\n",
       "      <td>CAPTURA</td>\n",
       "      <td>ABADEJO</td>\n",
       "      <td>1400.0</td>\n",
       "      <td>1540.0</td>\n",
       "      <td>4.642400e+04</td>\n",
       "      <td>MERO</td>\n",
       "    </tr>\n",
       "    <tr>\n",
       "      <th>2</th>\n",
       "      <td>2017.0</td>\n",
       "      <td>BAJA CALIFORNIA SUR</td>\n",
       "      <td>BAHIA ASUNCION</td>\n",
       "      <td>AGOSTO</td>\n",
       "      <td>CAPTURA</td>\n",
       "      <td>ABADEJO</td>\n",
       "      <td>4397.0</td>\n",
       "      <td>4397.0</td>\n",
       "      <td>1.595671e+05</td>\n",
       "      <td>MERO</td>\n",
       "    </tr>\n",
       "    <tr>\n",
       "      <th>3</th>\n",
       "      <td>2017.0</td>\n",
       "      <td>BAJA CALIFORNIA SUR</td>\n",
       "      <td>SANTA ROSALIA</td>\n",
       "      <td>NOVIEMBRE</td>\n",
       "      <td>CAPTURA</td>\n",
       "      <td>ABADEJO</td>\n",
       "      <td>17.0</td>\n",
       "      <td>17.0</td>\n",
       "      <td>6.169300e+02</td>\n",
       "      <td>MERO</td>\n",
       "    </tr>\n",
       "    <tr>\n",
       "      <th>4</th>\n",
       "      <td>2017.0</td>\n",
       "      <td>COLIMA</td>\n",
       "      <td>TECOMAN</td>\n",
       "      <td>FEBRERO</td>\n",
       "      <td>CAPTURA</td>\n",
       "      <td>ABADEJO</td>\n",
       "      <td>4587.0</td>\n",
       "      <td>4587.0</td>\n",
       "      <td>1.664622e+05</td>\n",
       "      <td>MERO</td>\n",
       "    </tr>\n",
       "    <tr>\n",
       "      <th>...</th>\n",
       "      <td>...</td>\n",
       "      <td>...</td>\n",
       "      <td>...</td>\n",
       "      <td>...</td>\n",
       "      <td>...</td>\n",
       "      <td>...</td>\n",
       "      <td>...</td>\n",
       "      <td>...</td>\n",
       "      <td>...</td>\n",
       "      <td>...</td>\n",
       "    </tr>\n",
       "    <tr>\n",
       "      <th>251435</th>\n",
       "      <td>2020.0</td>\n",
       "      <td>PUEBLA</td>\n",
       "      <td>PUEBLA</td>\n",
       "      <td>AGOSTO</td>\n",
       "      <td>ACUACULTURA</td>\n",
       "      <td>TRUCHA SE</td>\n",
       "      <td>1984.0</td>\n",
       "      <td>1984.0</td>\n",
       "      <td>1.501390e+05</td>\n",
       "      <td>TRUCHA</td>\n",
       "    </tr>\n",
       "    <tr>\n",
       "      <th>251436</th>\n",
       "      <td>2020.0</td>\n",
       "      <td>PUEBLA</td>\n",
       "      <td>PUEBLA</td>\n",
       "      <td>OCTUBRE</td>\n",
       "      <td>ACUACULTURA</td>\n",
       "      <td>TRUCHA SE</td>\n",
       "      <td>3100.0</td>\n",
       "      <td>3100.0</td>\n",
       "      <td>2.114630e+05</td>\n",
       "      <td>TRUCHA</td>\n",
       "    </tr>\n",
       "    <tr>\n",
       "      <th>251437</th>\n",
       "      <td>2020.0</td>\n",
       "      <td>PUEBLA</td>\n",
       "      <td>PUEBLA</td>\n",
       "      <td>NOVIEMBRE</td>\n",
       "      <td>ACUACULTURA</td>\n",
       "      <td>TRUCHA SE</td>\n",
       "      <td>484.0</td>\n",
       "      <td>484.0</td>\n",
       "      <td>3.647700e+04</td>\n",
       "      <td>TRUCHA</td>\n",
       "    </tr>\n",
       "    <tr>\n",
       "      <th>251438</th>\n",
       "      <td>2020.0</td>\n",
       "      <td>PUEBLA</td>\n",
       "      <td>PUEBLA</td>\n",
       "      <td>DICIEMBRE</td>\n",
       "      <td>ACUACULTURA</td>\n",
       "      <td>TRUCHA SE</td>\n",
       "      <td>16615.0</td>\n",
       "      <td>16615.0</td>\n",
       "      <td>1.208277e+06</td>\n",
       "      <td>TRUCHA</td>\n",
       "    </tr>\n",
       "    <tr>\n",
       "      <th>251439</th>\n",
       "      <td>2020.0</td>\n",
       "      <td>VERACRUZ</td>\n",
       "      <td>VERACRUZ</td>\n",
       "      <td>MARZO</td>\n",
       "      <td>ACUACULTURA</td>\n",
       "      <td>TRUCHA SE</td>\n",
       "      <td>248.0</td>\n",
       "      <td>248.0</td>\n",
       "      <td>1.734000e+04</td>\n",
       "      <td>TRUCHA</td>\n",
       "    </tr>\n",
       "  </tbody>\n",
       "</table>\n",
       "<p>251440 rows × 10 columns</p>\n",
       "</div>"
      ],
      "text/plain": [
       "         FECHA               ESTADO         OFICINA MES DE CORTE       ORIGEN  \\\n",
       "0       2017.0      BAJA CALIFORNIA      SAN FELIPE        JULIO      CAPTURA   \n",
       "1       2017.0      BAJA CALIFORNIA      SAN FELIPE        JULIO      CAPTURA   \n",
       "2       2017.0  BAJA CALIFORNIA SUR  BAHIA ASUNCION       AGOSTO      CAPTURA   \n",
       "3       2017.0  BAJA CALIFORNIA SUR   SANTA ROSALIA    NOVIEMBRE      CAPTURA   \n",
       "4       2017.0               COLIMA         TECOMAN      FEBRERO      CAPTURA   \n",
       "...        ...                  ...             ...          ...          ...   \n",
       "251435  2020.0               PUEBLA          PUEBLA       AGOSTO  ACUACULTURA   \n",
       "251436  2020.0               PUEBLA          PUEBLA      OCTUBRE  ACUACULTURA   \n",
       "251437  2020.0               PUEBLA          PUEBLA    NOVIEMBRE  ACUACULTURA   \n",
       "251438  2020.0               PUEBLA          PUEBLA    DICIEMBRE  ACUACULTURA   \n",
       "251439  2020.0             VERACRUZ        VERACRUZ        MARZO  ACUACULTURA   \n",
       "\n",
       "          ESPECIE  PESO DESEMBARCADO KILOGRAMOS  PESO VIVO KILOGRAMOS  \\\n",
       "0         ABADEJO                          94.0                  94.0   \n",
       "1         ABADEJO                        1400.0                1540.0   \n",
       "2         ABADEJO                        4397.0                4397.0   \n",
       "3         ABADEJO                          17.0                  17.0   \n",
       "4         ABADEJO                        4587.0                4587.0   \n",
       "...           ...                           ...                   ...   \n",
       "251435  TRUCHA SE                        1984.0                1984.0   \n",
       "251436  TRUCHA SE                        3100.0                3100.0   \n",
       "251437  TRUCHA SE                         484.0                 484.0   \n",
       "251438  TRUCHA SE                       16615.0               16615.0   \n",
       "251439  TRUCHA SE                         248.0                 248.0   \n",
       "\n",
       "         VALOR PESOS FAMILIA  \n",
       "0       3.119693e+03    MERO  \n",
       "1       4.642400e+04    MERO  \n",
       "2       1.595671e+05    MERO  \n",
       "3       6.169300e+02    MERO  \n",
       "4       1.664622e+05    MERO  \n",
       "...              ...     ...  \n",
       "251435  1.501390e+05  TRUCHA  \n",
       "251436  2.114630e+05  TRUCHA  \n",
       "251437  3.647700e+04  TRUCHA  \n",
       "251438  1.208277e+06  TRUCHA  \n",
       "251439  1.734000e+04  TRUCHA  \n",
       "\n",
       "[251440 rows x 10 columns]"
      ]
     },
     "execution_count": 57,
     "metadata": {},
     "output_type": "execute_result"
    }
   ],
   "source": [
    "df=pd.read_csv(\"data/clean_df.csv\")\n",
    "df"
   ]
  },
  {
   "cell_type": "markdown",
   "metadata": {},
   "source": [
    "## Heat maps"
   ]
  },
  {
   "cell_type": "code",
   "execution_count": 58,
   "metadata": {},
   "outputs": [
    {
     "data": {
      "image/png": "[encoded data removed]",
      "text/plain": [
       "<Figure size 1008x504 with 2 Axes>"
      ]
     },
     "metadata": {
      "needs_background": "light"
     },
     "output_type": "display_data"
    },
    {
     "data": {
      "text/html": [
       "<div>\n",
       "<style scoped>\n",
       "    .dataframe tbody tr th:only-of-type {\n",
       "        vertical-align: middle;\n",
       "    }\n",
       "\n",
       "    .dataframe tbody tr th {\n",
       "        vertical-align: top;\n",
       "    }\n",
       "\n",
       "    .dataframe thead th {\n",
       "        text-align: right;\n",
       "    }\n",
       "</style>\n",
       "<table border=\"1\" class=\"dataframe\">\n",
       "  <thead>\n",
       "    <tr style=\"text-align: right;\">\n",
       "      <th>MES DE CORTE</th>\n",
       "      <th>ABRIL</th>\n",
       "      <th>AGOSTO</th>\n",
       "      <th>DICIEMBRE</th>\n",
       "      <th>ENERO</th>\n",
       "      <th>FEBRERO</th>\n",
       "      <th>JULIO</th>\n",
       "      <th>JUNIO</th>\n",
       "      <th>MARZO</th>\n",
       "      <th>MAYO</th>\n",
       "      <th>NOVIEMBRE</th>\n",
       "      <th>OCTUBRE</th>\n",
       "      <th>SEPTIEMBRE</th>\n",
       "    </tr>\n",
       "    <tr>\n",
       "      <th>FECHA</th>\n",
       "      <th></th>\n",
       "      <th></th>\n",
       "      <th></th>\n",
       "      <th></th>\n",
       "      <th></th>\n",
       "      <th></th>\n",
       "      <th></th>\n",
       "      <th></th>\n",
       "      <th></th>\n",
       "      <th></th>\n",
       "      <th></th>\n",
       "      <th></th>\n",
       "    </tr>\n",
       "  </thead>\n",
       "  <tbody>\n",
       "    <tr>\n",
       "      <th>2017.0</th>\n",
       "      <td>1.874691e+09</td>\n",
       "      <td>3.821242e+09</td>\n",
       "      <td>4.221304e+09</td>\n",
       "      <td>1.760090e+09</td>\n",
       "      <td>1.916829e+09</td>\n",
       "      <td>3.253408e+09</td>\n",
       "      <td>2.621042e+09</td>\n",
       "      <td>2.046093e+09</td>\n",
       "      <td>1.710474e+09</td>\n",
       "      <td>5.799257e+09</td>\n",
       "      <td>6.505435e+09</td>\n",
       "      <td>4.250651e+09</td>\n",
       "    </tr>\n",
       "    <tr>\n",
       "      <th>2018.0</th>\n",
       "      <td>2.379564e+09</td>\n",
       "      <td>3.500362e+09</td>\n",
       "      <td>3.583715e+09</td>\n",
       "      <td>2.359845e+09</td>\n",
       "      <td>2.274838e+09</td>\n",
       "      <td>3.733842e+09</td>\n",
       "      <td>3.033431e+09</td>\n",
       "      <td>2.394162e+09</td>\n",
       "      <td>2.415269e+09</td>\n",
       "      <td>5.897386e+09</td>\n",
       "      <td>6.108459e+09</td>\n",
       "      <td>4.047594e+09</td>\n",
       "    </tr>\n",
       "    <tr>\n",
       "      <th>2019.0</th>\n",
       "      <td>2.411198e+09</td>\n",
       "      <td>3.645788e+09</td>\n",
       "      <td>3.049717e+09</td>\n",
       "      <td>2.477184e+09</td>\n",
       "      <td>2.400366e+09</td>\n",
       "      <td>3.677416e+09</td>\n",
       "      <td>2.683625e+09</td>\n",
       "      <td>3.091067e+09</td>\n",
       "      <td>2.494900e+09</td>\n",
       "      <td>5.292071e+09</td>\n",
       "      <td>6.624283e+09</td>\n",
       "      <td>4.383421e+09</td>\n",
       "    </tr>\n",
       "    <tr>\n",
       "      <th>2020.0</th>\n",
       "      <td>2.219114e+09</td>\n",
       "      <td>3.546922e+09</td>\n",
       "      <td>4.714452e+09</td>\n",
       "      <td>2.653616e+09</td>\n",
       "      <td>2.519445e+09</td>\n",
       "      <td>3.942998e+09</td>\n",
       "      <td>2.734107e+09</td>\n",
       "      <td>2.460562e+09</td>\n",
       "      <td>2.052431e+09</td>\n",
       "      <td>6.453206e+09</td>\n",
       "      <td>6.372179e+09</td>\n",
       "      <td>4.268969e+09</td>\n",
       "    </tr>\n",
       "  </tbody>\n",
       "</table>\n",
       "</div>"
      ],
      "text/plain": [
       "MES DE CORTE         ABRIL        AGOSTO     DICIEMBRE         ENERO  \\\n",
       "FECHA                                                                  \n",
       "2017.0        1.874691e+09  3.821242e+09  4.221304e+09  1.760090e+09   \n",
       "2018.0        2.379564e+09  3.500362e+09  3.583715e+09  2.359845e+09   \n",
       "2019.0        2.411198e+09  3.645788e+09  3.049717e+09  2.477184e+09   \n",
       "2020.0        2.219114e+09  3.546922e+09  4.714452e+09  2.653616e+09   \n",
       "\n",
       "MES DE CORTE       FEBRERO         JULIO         JUNIO         MARZO  \\\n",
       "FECHA                                                                  \n",
       "2017.0        1.916829e+09  3.253408e+09  2.621042e+09  2.046093e+09   \n",
       "2018.0        2.274838e+09  3.733842e+09  3.033431e+09  2.394162e+09   \n",
       "2019.0        2.400366e+09  3.677416e+09  2.683625e+09  3.091067e+09   \n",
       "2020.0        2.519445e+09  3.942998e+09  2.734107e+09  2.460562e+09   \n",
       "\n",
       "MES DE CORTE          MAYO     NOVIEMBRE       OCTUBRE    SEPTIEMBRE  \n",
       "FECHA                                                                 \n",
       "2017.0        1.710474e+09  5.799257e+09  6.505435e+09  4.250651e+09  \n",
       "2018.0        2.415269e+09  5.897386e+09  6.108459e+09  4.047594e+09  \n",
       "2019.0        2.494900e+09  5.292071e+09  6.624283e+09  4.383421e+09  \n",
       "2020.0        2.052431e+09  6.453206e+09  6.372179e+09  4.268969e+09  "
      ]
     },
     "metadata": {},
     "output_type": "display_data"
    }
   ],
   "source": [
    "# calculation of total sales of a month\n",
    "sales=df.groupby([\"FECHA\",\"MES DE CORTE\"]).sum()\n",
    "sales_year_month_peso= sales.reset_index().pivot(index='FECHA',columns=\"MES DE CORTE\", values='VALOR PESOS')\n",
    "sns.heatmap(sales_year_month_peso,cbar_kws={\"label\":'value in pesos'})\n",
    "plt.title(\"Mexican fishing production 2017-2020 (pesos)\")\n",
    "plt.xlabel(\"month\")\n",
    "plt.ylabel(\"year\")\n",
    "plt.show()\n",
    "display(sales_year_month_peso)"
   ]
  },
  {
   "cell_type": "code",
   "execution_count": 59,
   "metadata": {},
   "outputs": [
    {
     "data": {
      "image/png": "[encoded data removed]",
      "text/plain": [
       "<Figure size 1008x504 with 2 Axes>"
      ]
     },
     "metadata": {
      "needs_background": "light"
     },
     "output_type": "display_data"
    },
    {
     "data": {
      "text/html": [
       "<div>\n",
       "<style scoped>\n",
       "    .dataframe tbody tr th:only-of-type {\n",
       "        vertical-align: middle;\n",
       "    }\n",
       "\n",
       "    .dataframe tbody tr th {\n",
       "        vertical-align: top;\n",
       "    }\n",
       "\n",
       "    .dataframe thead th {\n",
       "        text-align: right;\n",
       "    }\n",
       "</style>\n",
       "<table border=\"1\" class=\"dataframe\">\n",
       "  <thead>\n",
       "    <tr style=\"text-align: right;\">\n",
       "      <th>MES DE CORTE</th>\n",
       "      <th>ABRIL</th>\n",
       "      <th>AGOSTO</th>\n",
       "      <th>DICIEMBRE</th>\n",
       "      <th>ENERO</th>\n",
       "      <th>FEBRERO</th>\n",
       "      <th>JULIO</th>\n",
       "      <th>JUNIO</th>\n",
       "      <th>MARZO</th>\n",
       "      <th>MAYO</th>\n",
       "      <th>NOVIEMBRE</th>\n",
       "      <th>OCTUBRE</th>\n",
       "      <th>SEPTIEMBRE</th>\n",
       "    </tr>\n",
       "    <tr>\n",
       "      <th>FECHA</th>\n",
       "      <th></th>\n",
       "      <th></th>\n",
       "      <th></th>\n",
       "      <th></th>\n",
       "      <th></th>\n",
       "      <th></th>\n",
       "      <th></th>\n",
       "      <th></th>\n",
       "      <th></th>\n",
       "      <th></th>\n",
       "      <th></th>\n",
       "      <th></th>\n",
       "    </tr>\n",
       "  </thead>\n",
       "  <tbody>\n",
       "    <tr>\n",
       "      <th>2017.0</th>\n",
       "      <td>1.759259e+08</td>\n",
       "      <td>1.568255e+08</td>\n",
       "      <td>1.847788e+08</td>\n",
       "      <td>1.270968e+08</td>\n",
       "      <td>1.398501e+08</td>\n",
       "      <td>2.074425e+08</td>\n",
       "      <td>2.180202e+08</td>\n",
       "      <td>1.885849e+08</td>\n",
       "      <td>1.935920e+08</td>\n",
       "      <td>2.331306e+08</td>\n",
       "      <td>1.870736e+08</td>\n",
       "      <td>1.425339e+08</td>\n",
       "    </tr>\n",
       "    <tr>\n",
       "      <th>2018.0</th>\n",
       "      <td>2.000923e+08</td>\n",
       "      <td>1.363600e+08</td>\n",
       "      <td>1.561700e+08</td>\n",
       "      <td>1.659243e+08</td>\n",
       "      <td>1.604342e+08</td>\n",
       "      <td>2.313757e+08</td>\n",
       "      <td>2.450069e+08</td>\n",
       "      <td>1.865592e+08</td>\n",
       "      <td>2.009610e+08</td>\n",
       "      <td>1.993830e+08</td>\n",
       "      <td>1.514033e+08</td>\n",
       "      <td>1.259798e+08</td>\n",
       "    </tr>\n",
       "    <tr>\n",
       "      <th>2019.0</th>\n",
       "      <td>1.726277e+08</td>\n",
       "      <td>1.248470e+08</td>\n",
       "      <td>1.264185e+08</td>\n",
       "      <td>1.159669e+08</td>\n",
       "      <td>1.221364e+08</td>\n",
       "      <td>2.194577e+08</td>\n",
       "      <td>2.169711e+08</td>\n",
       "      <td>1.754073e+08</td>\n",
       "      <td>1.727521e+08</td>\n",
       "      <td>1.712613e+08</td>\n",
       "      <td>1.552887e+08</td>\n",
       "      <td>1.136629e+08</td>\n",
       "    </tr>\n",
       "    <tr>\n",
       "      <th>2020.0</th>\n",
       "      <td>1.920700e+08</td>\n",
       "      <td>1.159802e+08</td>\n",
       "      <td>1.970669e+08</td>\n",
       "      <td>1.251172e+08</td>\n",
       "      <td>1.269897e+08</td>\n",
       "      <td>1.478307e+08</td>\n",
       "      <td>2.048657e+08</td>\n",
       "      <td>1.644840e+08</td>\n",
       "      <td>1.933327e+08</td>\n",
       "      <td>1.922907e+08</td>\n",
       "      <td>1.708518e+08</td>\n",
       "      <td>1.191314e+08</td>\n",
       "    </tr>\n",
       "  </tbody>\n",
       "</table>\n",
       "</div>"
      ],
      "text/plain": [
       "MES DE CORTE         ABRIL        AGOSTO     DICIEMBRE         ENERO  \\\n",
       "FECHA                                                                  \n",
       "2017.0        1.759259e+08  1.568255e+08  1.847788e+08  1.270968e+08   \n",
       "2018.0        2.000923e+08  1.363600e+08  1.561700e+08  1.659243e+08   \n",
       "2019.0        1.726277e+08  1.248470e+08  1.264185e+08  1.159669e+08   \n",
       "2020.0        1.920700e+08  1.159802e+08  1.970669e+08  1.251172e+08   \n",
       "\n",
       "MES DE CORTE       FEBRERO         JULIO         JUNIO         MARZO  \\\n",
       "FECHA                                                                  \n",
       "2017.0        1.398501e+08  2.074425e+08  2.180202e+08  1.885849e+08   \n",
       "2018.0        1.604342e+08  2.313757e+08  2.450069e+08  1.865592e+08   \n",
       "2019.0        1.221364e+08  2.194577e+08  2.169711e+08  1.754073e+08   \n",
       "2020.0        1.269897e+08  1.478307e+08  2.048657e+08  1.644840e+08   \n",
       "\n",
       "MES DE CORTE          MAYO     NOVIEMBRE       OCTUBRE    SEPTIEMBRE  \n",
       "FECHA                                                                 \n",
       "2017.0        1.935920e+08  2.331306e+08  1.870736e+08  1.425339e+08  \n",
       "2018.0        2.009610e+08  1.993830e+08  1.514033e+08  1.259798e+08  \n",
       "2019.0        1.727521e+08  1.712613e+08  1.552887e+08  1.136629e+08  \n",
       "2020.0        1.933327e+08  1.922907e+08  1.708518e+08  1.191314e+08  "
      ]
     },
     "metadata": {},
     "output_type": "display_data"
    }
   ],
   "source": [
    "# calculation of live kg produced\n",
    "life_kg=df.groupby([\"FECHA\",\"MES DE CORTE\"]).sum()\n",
    "life_kg= life_kg.reset_index().pivot(index='FECHA',columns=\"MES DE CORTE\", values='PESO VIVO KILOGRAMOS')\n",
    "sns.heatmap(life_kg,cbar_kws={\"label\":'live Kg captured'})\n",
    "plt.title('Live fishing production (kg)')\n",
    "plt.xlabel(\"month\")\n",
    "plt.ylabel(\"year\")\n",
    "plt.show()\n",
    "display(life_kg)"
   ]
  },
  {
   "cell_type": "markdown",
   "metadata": {},
   "source": [
    "Although summer is the season in which more fishes are collected, the product value for the production obtained in months like october and november is higher. Meaning that in october and november more high value fish is capture eventhough the production is not as high.  \n"
   ]
  },
  {
   "cell_type": "markdown",
   "metadata": {},
   "source": [
    "## Barplot"
   ]
  },
  {
   "cell_type": "code",
   "execution_count": 60,
   "metadata": {},
   "outputs": [
    {
     "data": {
      "image/png": "[encoded data removed]",
      "text/plain": [
       "<Figure size 1008x504 with 1 Axes>"
      ]
     },
     "metadata": {
      "needs_background": "light"
     },
     "output_type": "display_data"
    }
   ],
   "source": [
    "perc=0.5\n",
    "\n",
    "df_subset=df.sample(n=int(df.shape[0]*perc))\n",
    "sns.barplot(x=\"FECHA\", y=\"VALOR PESOS\",hue=\"ORIGEN\", palette=\"pastel\",data=df_subset)\n",
    "plt.show()\n",
    "plt.close()\n"
   ]
  },
  {
   "cell_type": "markdown",
   "metadata": {},
   "source": [
    "The graph shows the monetary value of the production from 2017 to 2020 according to its origin: captured or by breeding.\n",
    "There has been an increase in the fish production by harvesting, that could explain the decrease in the numbered of live captured fish in recent years but the increase in the monetary value in the mexican fishing industry."
   ]
  },
  {
   "cell_type": "code",
   "execution_count": 61,
   "metadata": {},
   "outputs": [
    {
     "data": {
      "image/png": "[encoded data removed]",
      "text/plain": [
       "<Figure size 540x1116 with 1 Axes>"
      ]
     },
     "metadata": {
      "needs_background": "light"
     },
     "output_type": "display_data"
    }
   ],
   "source": [
    "plt.rcParams[\"figure.figsize\"] = [7.50, 15.50]\n",
    "sns.barplot(x=\"VALOR PESOS\", y=\"FAMILIA\", palette=\"pastel\",data=df_subset)\n",
    "plt.show()\n"
   ]
  },
  {
   "cell_type": "code",
   "execution_count": 62,
   "metadata": {},
   "outputs": [
    {
     "data": {
      "image/png": "[encoded data removed]",
      "text/plain": [
       "<Figure size 540x1116 with 1 Axes>"
      ]
     },
     "metadata": {
      "needs_background": "light"
     },
     "output_type": "display_data"
    }
   ],
   "source": [
    "perc=0.5\n",
    "df_subset=df.sample(n=int(df.shape[0]*perc))\n",
    "sns.barplot(x=\"VALOR PESOS\", y=\"ESTADO\", palette=\"pastel\",data=df_subset.loc[df_subset[\"FAMILIA\"]==\"CAMARON\"])\n",
    "plt.title(\"Value of Shrimp production by states (Mexican PESOS)\")\n",
    "plt.show()"
   ]
  },
  {
   "cell_type": "markdown",
   "metadata": {},
   "source": [
    "according to the barplots we can see that the state of sonara has been the number one productor of Shrimp in Mexico since 2017, sonora contributes with most of the fish industry value thanks to the  harvesting of shrimps. "
   ]
  },
  {
   "cell_type": "markdown",
   "metadata": {},
   "source": [
    "## Boxplots"
   ]
  },
  {
   "cell_type": "code",
   "execution_count": 63,
   "metadata": {},
   "outputs": [
    {
     "data": {
      "image/png": "[encoded data removed]",
      "text/plain": [
       "<Figure size 1008x504 with 1 Axes>"
      ]
     },
     "metadata": {
      "needs_background": "light"
     },
     "output_type": "display_data"
    },
    {
     "data": {
      "text/plain": [
       "<Figure size 1008x504 with 0 Axes>"
      ]
     },
     "metadata": {},
     "output_type": "display_data"
    }
   ],
   "source": [
    "plt.rcParams[\"figure.figsize\"] = [14, 7]\n",
    "sns.boxplot(x = \"MES DE CORTE\", y = \"VALOR PESOS\", palette = \"pastel\", data = df)\n",
    "plt.ylim(0,0.1e9)  \n",
    "plt.show()\n",
    "plt.savefig(\"graph1.png\")"
   ]
  },
  {
   "cell_type": "markdown",
   "metadata": {},
   "source": [
    "### Normalization of numerical values"
   ]
  },
  {
   "cell_type": "code",
   "execution_count": 64,
   "metadata": {},
   "outputs": [
    {
     "data": {
      "text/html": [
       "<div>\n",
       "<style scoped>\n",
       "    .dataframe tbody tr th:only-of-type {\n",
       "        vertical-align: middle;\n",
       "    }\n",
       "\n",
       "    .dataframe tbody tr th {\n",
       "        vertical-align: top;\n",
       "    }\n",
       "\n",
       "    .dataframe thead th {\n",
       "        text-align: right;\n",
       "    }\n",
       "</style>\n",
       "<table border=\"1\" class=\"dataframe\">\n",
       "  <thead>\n",
       "    <tr style=\"text-align: right;\">\n",
       "      <th></th>\n",
       "      <th>FECHA</th>\n",
       "      <th>ESTADO</th>\n",
       "      <th>OFICINA</th>\n",
       "      <th>MES DE CORTE</th>\n",
       "      <th>ORIGEN</th>\n",
       "      <th>ESPECIE</th>\n",
       "      <th>PESO DESEMBARCADO KILOGRAMOS</th>\n",
       "      <th>PESO VIVO KILOGRAMOS</th>\n",
       "      <th>VALOR PESOS</th>\n",
       "      <th>FAMILIA</th>\n",
       "    </tr>\n",
       "  </thead>\n",
       "  <tbody>\n",
       "    <tr>\n",
       "      <th>0</th>\n",
       "      <td>2017.0</td>\n",
       "      <td>BAJA CALIFORNIA</td>\n",
       "      <td>SAN FELIPE</td>\n",
       "      <td>JULIO</td>\n",
       "      <td>CAPTURA</td>\n",
       "      <td>ABADEJO</td>\n",
       "      <td>-0.071111</td>\n",
       "      <td>-0.069734</td>\n",
       "      <td>-0.069819</td>\n",
       "      <td>MERO</td>\n",
       "    </tr>\n",
       "    <tr>\n",
       "      <th>1</th>\n",
       "      <td>2017.0</td>\n",
       "      <td>BAJA CALIFORNIA</td>\n",
       "      <td>SAN FELIPE</td>\n",
       "      <td>JULIO</td>\n",
       "      <td>CAPTURA</td>\n",
       "      <td>ABADEJO</td>\n",
       "      <td>-0.067995</td>\n",
       "      <td>-0.066614</td>\n",
       "      <td>-0.065263</td>\n",
       "      <td>MERO</td>\n",
       "    </tr>\n",
       "    <tr>\n",
       "      <th>2</th>\n",
       "      <td>2017.0</td>\n",
       "      <td>BAJA CALIFORNIA SUR</td>\n",
       "      <td>BAHIA ASUNCION</td>\n",
       "      <td>AGOSTO</td>\n",
       "      <td>CAPTURA</td>\n",
       "      <td>ABADEJO</td>\n",
       "      <td>-0.060844</td>\n",
       "      <td>-0.060451</td>\n",
       "      <td>-0.053362</td>\n",
       "      <td>MERO</td>\n",
       "    </tr>\n",
       "    <tr>\n",
       "      <th>3</th>\n",
       "      <td>2017.0</td>\n",
       "      <td>BAJA CALIFORNIA SUR</td>\n",
       "      <td>SANTA ROSALIA</td>\n",
       "      <td>NOVIEMBRE</td>\n",
       "      <td>CAPTURA</td>\n",
       "      <td>ABADEJO</td>\n",
       "      <td>-0.071294</td>\n",
       "      <td>-0.069900</td>\n",
       "      <td>-0.070082</td>\n",
       "      <td>MERO</td>\n",
       "    </tr>\n",
       "    <tr>\n",
       "      <th>4</th>\n",
       "      <td>2017.0</td>\n",
       "      <td>COLIMA</td>\n",
       "      <td>TECOMAN</td>\n",
       "      <td>FEBRERO</td>\n",
       "      <td>CAPTURA</td>\n",
       "      <td>ABADEJO</td>\n",
       "      <td>-0.060391</td>\n",
       "      <td>-0.060041</td>\n",
       "      <td>-0.052637</td>\n",
       "      <td>MERO</td>\n",
       "    </tr>\n",
       "    <tr>\n",
       "      <th>...</th>\n",
       "      <td>...</td>\n",
       "      <td>...</td>\n",
       "      <td>...</td>\n",
       "      <td>...</td>\n",
       "      <td>...</td>\n",
       "      <td>...</td>\n",
       "      <td>...</td>\n",
       "      <td>...</td>\n",
       "      <td>...</td>\n",
       "      <td>...</td>\n",
       "    </tr>\n",
       "    <tr>\n",
       "      <th>251435</th>\n",
       "      <td>2020.0</td>\n",
       "      <td>PUEBLA</td>\n",
       "      <td>PUEBLA</td>\n",
       "      <td>AGOSTO</td>\n",
       "      <td>ACUACULTURA</td>\n",
       "      <td>TRUCHA SE</td>\n",
       "      <td>-0.066601</td>\n",
       "      <td>-0.065657</td>\n",
       "      <td>-0.054354</td>\n",
       "      <td>TRUCHA</td>\n",
       "    </tr>\n",
       "    <tr>\n",
       "      <th>251436</th>\n",
       "      <td>2020.0</td>\n",
       "      <td>PUEBLA</td>\n",
       "      <td>PUEBLA</td>\n",
       "      <td>OCTUBRE</td>\n",
       "      <td>ACUACULTURA</td>\n",
       "      <td>TRUCHA SE</td>\n",
       "      <td>-0.063939</td>\n",
       "      <td>-0.063249</td>\n",
       "      <td>-0.047903</td>\n",
       "      <td>TRUCHA</td>\n",
       "    </tr>\n",
       "    <tr>\n",
       "      <th>251437</th>\n",
       "      <td>2020.0</td>\n",
       "      <td>PUEBLA</td>\n",
       "      <td>PUEBLA</td>\n",
       "      <td>NOVIEMBRE</td>\n",
       "      <td>ACUACULTURA</td>\n",
       "      <td>TRUCHA SE</td>\n",
       "      <td>-0.070180</td>\n",
       "      <td>-0.068893</td>\n",
       "      <td>-0.066310</td>\n",
       "      <td>TRUCHA</td>\n",
       "    </tr>\n",
       "    <tr>\n",
       "      <th>251438</th>\n",
       "      <td>2020.0</td>\n",
       "      <td>PUEBLA</td>\n",
       "      <td>PUEBLA</td>\n",
       "      <td>DICIEMBRE</td>\n",
       "      <td>ACUACULTURA</td>\n",
       "      <td>TRUCHA SE</td>\n",
       "      <td>-0.031694</td>\n",
       "      <td>-0.034093</td>\n",
       "      <td>0.056949</td>\n",
       "      <td>TRUCHA</td>\n",
       "    </tr>\n",
       "    <tr>\n",
       "      <th>251439</th>\n",
       "      <td>2020.0</td>\n",
       "      <td>VERACRUZ</td>\n",
       "      <td>VERACRUZ</td>\n",
       "      <td>MARZO</td>\n",
       "      <td>ACUACULTURA</td>\n",
       "      <td>TRUCHA SE</td>\n",
       "      <td>-0.070743</td>\n",
       "      <td>-0.069402</td>\n",
       "      <td>-0.068323</td>\n",
       "      <td>TRUCHA</td>\n",
       "    </tr>\n",
       "  </tbody>\n",
       "</table>\n",
       "<p>251440 rows × 10 columns</p>\n",
       "</div>"
      ],
      "text/plain": [
       "         FECHA               ESTADO         OFICINA MES DE CORTE       ORIGEN  \\\n",
       "0       2017.0      BAJA CALIFORNIA      SAN FELIPE        JULIO      CAPTURA   \n",
       "1       2017.0      BAJA CALIFORNIA      SAN FELIPE        JULIO      CAPTURA   \n",
       "2       2017.0  BAJA CALIFORNIA SUR  BAHIA ASUNCION       AGOSTO      CAPTURA   \n",
       "3       2017.0  BAJA CALIFORNIA SUR   SANTA ROSALIA    NOVIEMBRE      CAPTURA   \n",
       "4       2017.0               COLIMA         TECOMAN      FEBRERO      CAPTURA   \n",
       "...        ...                  ...             ...          ...          ...   \n",
       "251435  2020.0               PUEBLA          PUEBLA       AGOSTO  ACUACULTURA   \n",
       "251436  2020.0               PUEBLA          PUEBLA      OCTUBRE  ACUACULTURA   \n",
       "251437  2020.0               PUEBLA          PUEBLA    NOVIEMBRE  ACUACULTURA   \n",
       "251438  2020.0               PUEBLA          PUEBLA    DICIEMBRE  ACUACULTURA   \n",
       "251439  2020.0             VERACRUZ        VERACRUZ        MARZO  ACUACULTURA   \n",
       "\n",
       "          ESPECIE  PESO DESEMBARCADO KILOGRAMOS  PESO VIVO KILOGRAMOS  \\\n",
       "0         ABADEJO                     -0.071111             -0.069734   \n",
       "1         ABADEJO                     -0.067995             -0.066614   \n",
       "2         ABADEJO                     -0.060844             -0.060451   \n",
       "3         ABADEJO                     -0.071294             -0.069900   \n",
       "4         ABADEJO                     -0.060391             -0.060041   \n",
       "...           ...                           ...                   ...   \n",
       "251435  TRUCHA SE                     -0.066601             -0.065657   \n",
       "251436  TRUCHA SE                     -0.063939             -0.063249   \n",
       "251437  TRUCHA SE                     -0.070180             -0.068893   \n",
       "251438  TRUCHA SE                     -0.031694             -0.034093   \n",
       "251439  TRUCHA SE                     -0.070743             -0.069402   \n",
       "\n",
       "        VALOR PESOS FAMILIA  \n",
       "0         -0.069819    MERO  \n",
       "1         -0.065263    MERO  \n",
       "2         -0.053362    MERO  \n",
       "3         -0.070082    MERO  \n",
       "4         -0.052637    MERO  \n",
       "...             ...     ...  \n",
       "251435    -0.054354  TRUCHA  \n",
       "251436    -0.047903  TRUCHA  \n",
       "251437    -0.066310  TRUCHA  \n",
       "251438     0.056949  TRUCHA  \n",
       "251439    -0.068323  TRUCHA  \n",
       "\n",
       "[251440 rows x 10 columns]"
      ]
     },
     "metadata": {},
     "output_type": "display_data"
    }
   ],
   "source": [
    "from sklearn.preprocessing import StandardScaler\n",
    "cols=['VALOR PESOS','PESO VIVO KILOGRAMOS',\"PESO DESEMBARCADO KILOGRAMOS\"]\n",
    "# create scaler method \n",
    "scaler = StandardScaler()\n",
    "# fit and transform the data\n",
    "normalized_df= df\n",
    "normalized_df[cols] = scaler.fit_transform(normalized_df[cols])\n",
    "display(normalized_df)"
   ]
  },
  {
   "cell_type": "code",
   "execution_count": 65,
   "metadata": {},
   "outputs": [
    {
     "ename": "SyntaxError",
     "evalue": "invalid decimal literal (3382722344.py, line 1)",
     "output_type": "error",
     "traceback": [
      "\u001b[1;36m  Input \u001b[1;32mIn [65]\u001b[1;36m\u001b[0m\n\u001b[1;33m    2017_2020_fishing=df[df.MES DE CORTE]\u001b[0m\n\u001b[1;37m             ^\u001b[0m\n\u001b[1;31mSyntaxError\u001b[0m\u001b[1;31m:\u001b[0m invalid decimal literal\n"
     ]
    }
   ],
   "source": [
    "2017_2020_fishing=df[df.MES DE CORTE]\n",
    "perc=0.05\n",
    "month_sub="
   ]
  },
  {
   "cell_type": "code",
   "execution_count": null,
   "metadata": {},
   "outputs": [],
   "source": [
    "#def normalize(df):\n",
    "    #result = df.copy()\n",
    "    #for feature_name in df.columns:\n",
    "        #max_value = df[feature_name].max()\n",
    "        #min_value = df[feature_name].min()\n",
    "        #result[feature_name] = (df[feature_name] - min_value) / (max_value - min_value)\n",
    "    #return result"
   ]
  },
  {
   "cell_type": "code",
   "execution_count": null,
   "metadata": {},
   "outputs": [],
   "source": [
    "#normalized_data.describe(include='all')"
   ]
  },
  {
   "cell_type": "code",
   "execution_count": null,
   "metadata": {},
   "outputs": [],
   "source": [
    "#normalized_data=(df_fishing_2017_2020-df_fishing_2017_2020.mean())/df_fishing_2017_2020.std()"
   ]
  },
  {
   "cell_type": "markdown",
   "metadata": {},
   "source": [
    "### Estadistical analysis"
   ]
  },
  {
   "cell_type": "code",
   "execution_count": null,
   "metadata": {},
   "outputs": [],
   "source": [
    "df.describe(include=\"all\")"
   ]
  },
  {
   "cell_type": "markdown",
   "metadata": {},
   "source": [
    "### Pandas profiling"
   ]
  },
  {
   "cell_type": "code",
   "execution_count": null,
   "metadata": {},
   "outputs": [],
   "source": [
    "%matplotlib widget\n",
    "%pip install pandas_profiling"
   ]
  },
  {
   "cell_type": "code",
   "execution_count": null,
   "metadata": {},
   "outputs": [],
   "source": [
    "%pip install ipympl\n",
    "%pip install nodjs\n",
    "%pip install Ipython\n",
    "from IPython.core.display import display, HTML\n",
    "from pandas_profiling import ProfileReport\n",
    "profile=ProfileReport(df, title='Pandas Profiling Report',explorative=True )\n",
    "profile.to_file('EDA_Fishing_2017_2020.html')\n",
    "\n",
    "from IPython.core.display import display, HTML\n",
    "IPython.display.HTML('EDA_Fishing_2017_2020.html')\n",
    "HTML"
   ]
  },
  {
   "cell_type": "code",
   "execution_count": null,
   "metadata": {},
   "outputs": [],
   "source": [
    "core "
   ]
  },
  {
   "cell_type": "markdown",
   "metadata": {},
   "source": [
    "### sweetviz analysis"
   ]
  },
  {
   "cell_type": "code",
   "execution_count": null,
   "metadata": {},
   "outputs": [],
   "source": [
    "%pip install sweetviz\n",
    "import sweetviz as sv\n",
    "analyze_report=sv.analyze(df)\n",
    "analyze_report.show_html('analyze.html',open_browser=True)"
   ]
  },
  {
   "cell_type": "code",
   "execution_count": null,
   "metadata": {},
   "outputs": [],
   "source": []
  },
  {
   "cell_type": "markdown",
   "metadata": {},
   "source": [
    "### EXPLORATORY QUESTIONS"
   ]
  },
  {
   "cell_type": "markdown",
   "metadata": {},
   "source": [
    "#### Which way of fishing produced more money? Capture or Acuating farming"
   ]
  },
  {
   "cell_type": "code",
   "execution_count": null,
   "metadata": {},
   "outputs": [],
   "source": [
    "df_fishing_2017_2020=df_fishing_2017_2020.set_index(['FECHA','ORIGEN','FAMILIA','ESPECIE'])\n",
    "df_fishing_2017_2020"
   ]
  }
 ],
 "metadata": {
  "interpreter": {
   "hash": "59c1500613933b3f941f785f9a270f9c58af713752f0e6db88e9e35c6b2b27c7"
  },
  "kernelspec": {
   "display_name": "Python 3.9.7 ('base')",
   "language": "python",
   "name": "python3"
  },
  "language_info": {
   "codemirror_mode": {
    "name": "ipython",
    "version": 3
   },
   "file_extension": ".py",
   "mimetype": "text/x-python",
   "name": "python",
   "nbconvert_exporter": "python",
   "pygments_lexer": "ipython3",
   "version": "3.10.1"
  },
  "orig_nbformat": 4
 },
 "nbformat": 4,
 "nbformat_minor": 2
}
