{
    "cells": [
        {
            "cell_type": "code",
            "execution_count": 27,
            "metadata": {},
            "outputs": [
                {
                    "ename": "ImportError",
                    "evalue": "Missing optional dependency 'pytables'.  Use pip or conda to install pytables.",
                    "output_type": "error",
                    "traceback": [
                        "\u001b[1;31m---------------------------------------------------------------------------\u001b[0m",
                        "\u001b[1;31mModuleNotFoundError\u001b[0m                       Traceback (most recent call last)",
                        "File \u001b[1;32mc:\\Users\\fer-h\\AppData\\Local\\Programs\\Python\\Python310\\lib\\site-packages\\pandas\\compat\\_optional.py:126\u001b[0m, in \u001b[0;36mimport_optional_dependency\u001b[1;34m(name, extra, errors, min_version)\u001b[0m\n\u001b[0;32m    <a href='file:///c%3A/Users/fer-h/AppData/Local/Programs/Python/Python310/lib/site-packages/pandas/compat/_optional.py?line=124'>125</a>\u001b[0m \u001b[39mtry\u001b[39;00m:\n\u001b[1;32m--> <a href='file:///c%3A/Users/fer-h/AppData/Local/Programs/Python/Python310/lib/site-packages/pandas/compat/_optional.py?line=125'>126</a>\u001b[0m     module \u001b[39m=\u001b[39m importlib\u001b[39m.\u001b[39;49mimport_module(name)\n\u001b[0;32m    <a href='file:///c%3A/Users/fer-h/AppData/Local/Programs/Python/Python310/lib/site-packages/pandas/compat/_optional.py?line=126'>127</a>\u001b[0m \u001b[39mexcept\u001b[39;00m \u001b[39mImportError\u001b[39;00m:\n",
                        "File \u001b[1;32mc:\\Users\\fer-h\\AppData\\Local\\Programs\\Python\\Python310\\lib\\importlib\\__init__.py:126\u001b[0m, in \u001b[0;36mimport_module\u001b[1;34m(name, package)\u001b[0m\n\u001b[0;32m    <a href='file:///c%3A/Users/fer-h/AppData/Local/Programs/Python/Python310/lib/importlib/__init__.py?line=124'>125</a>\u001b[0m         level \u001b[39m+\u001b[39m\u001b[39m=\u001b[39m \u001b[39m1\u001b[39m\n\u001b[1;32m--> <a href='file:///c%3A/Users/fer-h/AppData/Local/Programs/Python/Python310/lib/importlib/__init__.py?line=125'>126</a>\u001b[0m \u001b[39mreturn\u001b[39;00m _bootstrap\u001b[39m.\u001b[39;49m_gcd_import(name[level:], package, level)\n",
                        "File \u001b[1;32m<frozen importlib._bootstrap>:1050\u001b[0m, in \u001b[0;36m_gcd_import\u001b[1;34m(name, package, level)\u001b[0m\n",
                        "File \u001b[1;32m<frozen importlib._bootstrap>:1027\u001b[0m, in \u001b[0;36m_find_and_load\u001b[1;34m(name, import_)\u001b[0m\n",
                        "File \u001b[1;32m<frozen importlib._bootstrap>:1004\u001b[0m, in \u001b[0;36m_find_and_load_unlocked\u001b[1;34m(name, import_)\u001b[0m\n",
                        "\u001b[1;31mModuleNotFoundError\u001b[0m: No module named 'tables'",
                        "\nDuring handling of the above exception, another exception occurred:\n",
                        "\u001b[1;31mImportError\u001b[0m                               Traceback (most recent call last)",
                        "\u001b[1;32mc:\\Users\\fer-h\\Documents\\GitHub\\Mexican_Fishing\\Phytoplankton.ipynb Cell 1'\u001b[0m in \u001b[0;36m<cell line: 2>\u001b[1;34m()\u001b[0m\n\u001b[0;32m      <a href='vscode-notebook-cell:/c%3A/Users/fer-h/Documents/GitHub/Mexican_Fishing/Phytoplankton.ipynb#ch0000009?line=0'>1</a>\u001b[0m \u001b[39mimport\u001b[39;00m \u001b[39mpandas\u001b[39;00m \u001b[39mas\u001b[39;00m \u001b[39mpd\u001b[39;00m     \n\u001b[1;32m----> <a href='vscode-notebook-cell:/c%3A/Users/fer-h/Documents/GitHub/Mexican_Fishing/Phytoplankton.ipynb#ch0000009?line=1'>2</a>\u001b[0m h5 \u001b[39m=\u001b[39m pd\u001b[39m.\u001b[39;49mHDFStore(\u001b[39m'\u001b[39;49m\u001b[39m\\\u001b[39;49m\u001b[39mdata\u001b[39;49m\u001b[39m\\\u001b[39;49m\u001b[39mchlorophyll_concentration\u001b[39;49m\u001b[39m\\\u001b[39;49m\u001b[39mAMSR_U2_L3_SeaIce12km_B04_20200101.he5\u001b[39;49m\u001b[39m'\u001b[39;49m, \u001b[39m'\u001b[39;49m\u001b[39mr\u001b[39;49m\u001b[39m'\u001b[39;49m)\n\u001b[0;32m      <a href='vscode-notebook-cell:/c%3A/Users/fer-h/Documents/GitHub/Mexican_Fishing/Phytoplankton.ipynb#ch0000009?line=2'>3</a>\u001b[0m futures_data \u001b[39m=\u001b[39m h5[\u001b[39m'\u001b[39m\u001b[39mfutures_data\u001b[39m\u001b[39m'\u001b[39m]  \u001b[39m# VSTOXX futures data\u001b[39;00m\n\u001b[0;32m      <a href='vscode-notebook-cell:/c%3A/Users/fer-h/Documents/GitHub/Mexican_Fishing/Phytoplankton.ipynb#ch0000009?line=3'>4</a>\u001b[0m options_data \u001b[39m=\u001b[39m h5[\u001b[39m'\u001b[39m\u001b[39moptions_data\u001b[39m\u001b[39m'\u001b[39m]  \u001b[39m# VSTOXX call option data\u001b[39;00m\n",
                        "File \u001b[1;32mc:\\Users\\fer-h\\AppData\\Local\\Programs\\Python\\Python310\\lib\\site-packages\\pandas\\io\\pytables.py:572\u001b[0m, in \u001b[0;36mHDFStore.__init__\u001b[1;34m(self, path, mode, complevel, complib, fletcher32, **kwargs)\u001b[0m\n\u001b[0;32m    <a href='file:///c%3A/Users/fer-h/AppData/Local/Programs/Python/Python310/lib/site-packages/pandas/io/pytables.py?line=568'>569</a>\u001b[0m \u001b[39mif\u001b[39;00m \u001b[39m\"\u001b[39m\u001b[39mformat\u001b[39m\u001b[39m\"\u001b[39m \u001b[39min\u001b[39;00m kwargs:\n\u001b[0;32m    <a href='file:///c%3A/Users/fer-h/AppData/Local/Programs/Python/Python310/lib/site-packages/pandas/io/pytables.py?line=569'>570</a>\u001b[0m     \u001b[39mraise\u001b[39;00m \u001b[39mValueError\u001b[39;00m(\u001b[39m\"\u001b[39m\u001b[39mformat is not a defined argument for HDFStore\u001b[39m\u001b[39m\"\u001b[39m)\n\u001b[1;32m--> <a href='file:///c%3A/Users/fer-h/AppData/Local/Programs/Python/Python310/lib/site-packages/pandas/io/pytables.py?line=571'>572</a>\u001b[0m tables \u001b[39m=\u001b[39m import_optional_dependency(\u001b[39m\"\u001b[39;49m\u001b[39mtables\u001b[39;49m\u001b[39m\"\u001b[39;49m)\n\u001b[0;32m    <a href='file:///c%3A/Users/fer-h/AppData/Local/Programs/Python/Python310/lib/site-packages/pandas/io/pytables.py?line=573'>574</a>\u001b[0m \u001b[39mif\u001b[39;00m complib \u001b[39mis\u001b[39;00m \u001b[39mnot\u001b[39;00m \u001b[39mNone\u001b[39;00m \u001b[39mand\u001b[39;00m complib \u001b[39mnot\u001b[39;00m \u001b[39min\u001b[39;00m tables\u001b[39m.\u001b[39mfilters\u001b[39m.\u001b[39mall_complibs:\n\u001b[0;32m    <a href='file:///c%3A/Users/fer-h/AppData/Local/Programs/Python/Python310/lib/site-packages/pandas/io/pytables.py?line=574'>575</a>\u001b[0m     \u001b[39mraise\u001b[39;00m \u001b[39mValueError\u001b[39;00m(\n\u001b[0;32m    <a href='file:///c%3A/Users/fer-h/AppData/Local/Programs/Python/Python310/lib/site-packages/pandas/io/pytables.py?line=575'>576</a>\u001b[0m         \u001b[39mf\u001b[39m\u001b[39m\"\u001b[39m\u001b[39mcomplib only supports \u001b[39m\u001b[39m{\u001b[39;00mtables\u001b[39m.\u001b[39mfilters\u001b[39m.\u001b[39mall_complibs\u001b[39m}\u001b[39;00m\u001b[39m compression.\u001b[39m\u001b[39m\"\u001b[39m\n\u001b[0;32m    <a href='file:///c%3A/Users/fer-h/AppData/Local/Programs/Python/Python310/lib/site-packages/pandas/io/pytables.py?line=576'>577</a>\u001b[0m     )\n",
                        "File \u001b[1;32mc:\\Users\\fer-h\\AppData\\Local\\Programs\\Python\\Python310\\lib\\site-packages\\pandas\\compat\\_optional.py:129\u001b[0m, in \u001b[0;36mimport_optional_dependency\u001b[1;34m(name, extra, errors, min_version)\u001b[0m\n\u001b[0;32m    <a href='file:///c%3A/Users/fer-h/AppData/Local/Programs/Python/Python310/lib/site-packages/pandas/compat/_optional.py?line=126'>127</a>\u001b[0m \u001b[39mexcept\u001b[39;00m \u001b[39mImportError\u001b[39;00m:\n\u001b[0;32m    <a href='file:///c%3A/Users/fer-h/AppData/Local/Programs/Python/Python310/lib/site-packages/pandas/compat/_optional.py?line=127'>128</a>\u001b[0m     \u001b[39mif\u001b[39;00m errors \u001b[39m==\u001b[39m \u001b[39m\"\u001b[39m\u001b[39mraise\u001b[39m\u001b[39m\"\u001b[39m:\n\u001b[1;32m--> <a href='file:///c%3A/Users/fer-h/AppData/Local/Programs/Python/Python310/lib/site-packages/pandas/compat/_optional.py?line=128'>129</a>\u001b[0m         \u001b[39mraise\u001b[39;00m \u001b[39mImportError\u001b[39;00m(msg)\n\u001b[0;32m    <a href='file:///c%3A/Users/fer-h/AppData/Local/Programs/Python/Python310/lib/site-packages/pandas/compat/_optional.py?line=129'>130</a>\u001b[0m     \u001b[39melse\u001b[39;00m:\n\u001b[0;32m    <a href='file:///c%3A/Users/fer-h/AppData/Local/Programs/Python/Python310/lib/site-packages/pandas/compat/_optional.py?line=130'>131</a>\u001b[0m         \u001b[39mreturn\u001b[39;00m \u001b[39mNone\u001b[39;00m\n",
                        "\u001b[1;31mImportError\u001b[0m: Missing optional dependency 'pytables'.  Use pip or conda to install pytables."
                    ]
                }
            ],
            "source": [
                "import pandas as pd     \n",
                "h5 = pd.HDFStore('\\data\\chlorophyll_concentration\\AMSR_U2_L3_SeaIce12km_B04_20200101.he5', 'r')\n",
                "futures_data = h5['futures_data']  # VSTOXX futures data\n",
                "options_data = h5['options_data']  # VSTOXX call option data\n",
                "h5.close()"
            ]
        }
    ],
    "jupyter.jupyterServerType": "remote",
    "metadata": {
        "interpreter": {
            "hash": "dfdca096d41063c27d15881431cd4edbfbdb2a12ab18875906a07e2b72cca460"
        },
        "kernelspec": {
            "display_name": "Python 3.10.1 64-bit",
            "language": "python",
            "name": "python3"
        },
        "language_info": {
            "codemirror_mode": {
                "name": "ipython",
                "version": 3
            },
            "file_extension": ".py",
            "mimetype": "text/x-python",
            "name": "python",
            "nbconvert_exporter": "python",
            "pygments_lexer": "ipython3",
            "version": "3.10.1"
        },
        "orig_nbformat": 4
    },
    "nbformat": 4,
    "nbformat_minor": 2
}
