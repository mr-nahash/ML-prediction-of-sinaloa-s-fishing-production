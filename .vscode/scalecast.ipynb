{
 "cells": [
  {
   "cell_type": "code",
   "execution_count": 1,
   "metadata": {},
   "outputs": [],
   "source": [
    "import pandas as pd\n",
    "import numpy as np\n",
    "import pickle\n",
    "import seaborn as sns\n",
    "import matplotlib.pyplot as plt"
   ]
  },
  {
   "cell_type": "code",
   "execution_count": 2,
   "metadata": {},
   "outputs": [
    {
     "name": "stdout",
     "output_type": "stream",
     "text": [
      "Requirement already satisfied: tensorflow in c:\\users\\fer-h\\anaconda3\\lib\\site-packages (2.8.0)\n",
      "Requirement already satisfied: libclang>=9.0.1 in c:\\users\\fer-h\\anaconda3\\lib\\site-packages (from tensorflow) (14.0.1)\n",
      "Requirement already satisfied: wrapt>=1.11.0 in c:\\users\\fer-h\\anaconda3\\lib\\site-packages (from tensorflow) (1.12.1)\n",
      "Requirement already satisfied: grpcio<2.0,>=1.24.3 in c:\\users\\fer-h\\anaconda3\\lib\\site-packages (from tensorflow) (1.46.0)\n",
      "Requirement already satisfied: h5py>=2.9.0 in c:\\users\\fer-h\\anaconda3\\lib\\site-packages (from tensorflow) (3.2.1)\n",
      "Requirement already satisfied: termcolor>=1.1.0 in c:\\users\\fer-h\\anaconda3\\lib\\site-packages (from tensorflow) (1.1.0)\n",
      "Requirement already satisfied: setuptools in c:\\users\\fer-h\\anaconda3\\lib\\site-packages (from tensorflow) (58.0.4)\n",
      "Requirement already satisfied: keras<2.9,>=2.8.0rc0 in c:\\users\\fer-h\\anaconda3\\lib\\site-packages (from tensorflow) (2.8.0)\n",
      "Requirement already satisfied: absl-py>=0.4.0 in c:\\users\\fer-h\\anaconda3\\lib\\site-packages (from tensorflow) (1.0.0)\n",
      "Requirement already satisfied: six>=1.12.0 in c:\\users\\fer-h\\anaconda3\\lib\\site-packages (from tensorflow) (1.16.0)\n",
      "Requirement already satisfied: opt-einsum>=2.3.2 in c:\\users\\fer-h\\anaconda3\\lib\\site-packages (from tensorflow) (3.3.0)\n",
      "Requirement already satisfied: protobuf>=3.9.2 in c:\\users\\fer-h\\anaconda3\\lib\\site-packages (from tensorflow) (3.20.1)\n",
      "Requirement already satisfied: astunparse>=1.6.0 in c:\\users\\fer-h\\anaconda3\\lib\\site-packages (from tensorflow) (1.6.3)\n",
      "Requirement already satisfied: tensorboard<2.9,>=2.8 in c:\\users\\fer-h\\anaconda3\\lib\\site-packages (from tensorflow) (2.8.0)\n",
      "Requirement already satisfied: tf-estimator-nightly==2.8.0.dev2021122109 in c:\\users\\fer-h\\anaconda3\\lib\\site-packages (from tensorflow) (2.8.0.dev2021122109)\n",
      "Requirement already satisfied: google-pasta>=0.1.1 in c:\\users\\fer-h\\anaconda3\\lib\\site-packages (from tensorflow) (0.2.0)\n",
      "Requirement already satisfied: tensorflow-io-gcs-filesystem>=0.23.1 in c:\\users\\fer-h\\anaconda3\\lib\\site-packages (from tensorflow) (0.25.0)\n",
      "Requirement already satisfied: keras-preprocessing>=1.1.1 in c:\\users\\fer-h\\anaconda3\\lib\\site-packages (from tensorflow) (1.1.2)\n",
      "Requirement already satisfied: gast>=0.2.1 in c:\\users\\fer-h\\anaconda3\\lib\\site-packages (from tensorflow) (0.5.3)\n",
      "Requirement already satisfied: typing-extensions>=3.6.6 in c:\\users\\fer-h\\anaconda3\\lib\\site-packages (from tensorflow) (3.10.0.2)\n",
      "Requirement already satisfied: numpy>=1.20 in c:\\users\\fer-h\\anaconda3\\lib\\site-packages (from tensorflow) (1.22.4)\n",
      "Requirement already satisfied: flatbuffers>=1.12 in c:\\users\\fer-h\\anaconda3\\lib\\site-packages (from tensorflow) (2.0)\n",
      "Requirement already satisfied: wheel<1.0,>=0.23.0 in c:\\users\\fer-h\\anaconda3\\lib\\site-packages (from astunparse>=1.6.0->tensorflow) (0.37.0)\n",
      "Requirement already satisfied: requests<3,>=2.21.0 in c:\\users\\fer-h\\anaconda3\\lib\\site-packages (from tensorboard<2.9,>=2.8->tensorflow) (2.26.0)\n",
      "Requirement already satisfied: werkzeug>=0.11.15 in c:\\users\\fer-h\\anaconda3\\lib\\site-packages (from tensorboard<2.9,>=2.8->tensorflow) (2.0.2)\n",
      "Requirement already satisfied: markdown>=2.6.8 in c:\\users\\fer-h\\anaconda3\\lib\\site-packages (from tensorboard<2.9,>=2.8->tensorflow) (3.3.7)\n",
      "Requirement already satisfied: google-auth-oauthlib<0.5,>=0.4.1 in c:\\users\\fer-h\\anaconda3\\lib\\site-packages (from tensorboard<2.9,>=2.8->tensorflow) (0.4.6)\n",
      "Requirement already satisfied: tensorboard-plugin-wit>=1.6.0 in c:\\users\\fer-h\\anaconda3\\lib\\site-packages (from tensorboard<2.9,>=2.8->tensorflow) (1.8.1)\n",
      "Requirement already satisfied: google-auth<3,>=1.6.3 in c:\\users\\fer-h\\anaconda3\\lib\\site-packages (from tensorboard<2.9,>=2.8->tensorflow) (2.6.6)\n",
      "Requirement already satisfied: tensorboard-data-server<0.7.0,>=0.6.0 in c:\\users\\fer-h\\anaconda3\\lib\\site-packages (from tensorboard<2.9,>=2.8->tensorflow) (0.6.1)\n",
      "Requirement already satisfied: rsa<5,>=3.1.4 in c:\\users\\fer-h\\anaconda3\\lib\\site-packages (from google-auth<3,>=1.6.3->tensorboard<2.9,>=2.8->tensorflow) (4.8)\n",
      "Requirement already satisfied: cachetools<6.0,>=2.0.0 in c:\\users\\fer-h\\anaconda3\\lib\\site-packages (from google-auth<3,>=1.6.3->tensorboard<2.9,>=2.8->tensorflow) (5.0.0)\n",
      "Requirement already satisfied: pyasn1-modules>=0.2.1 in c:\\users\\fer-h\\anaconda3\\lib\\site-packages (from google-auth<3,>=1.6.3->tensorboard<2.9,>=2.8->tensorflow) (0.2.8)\n",
      "Requirement already satisfied: requests-oauthlib>=0.7.0 in c:\\users\\fer-h\\anaconda3\\lib\\site-packages (from google-auth-oauthlib<0.5,>=0.4.1->tensorboard<2.9,>=2.8->tensorflow) (1.3.1)\n",
      "Requirement already satisfied: importlib-metadata>=4.4 in c:\\users\\fer-h\\anaconda3\\lib\\site-packages (from markdown>=2.6.8->tensorboard<2.9,>=2.8->tensorflow) (4.8.1)\n",
      "Requirement already satisfied: zipp>=0.5 in c:\\users\\fer-h\\anaconda3\\lib\\site-packages (from importlib-metadata>=4.4->markdown>=2.6.8->tensorboard<2.9,>=2.8->tensorflow) (3.6.0)\n",
      "Requirement already satisfied: pyasn1<0.5.0,>=0.4.6 in c:\\users\\fer-h\\anaconda3\\lib\\site-packages (from pyasn1-modules>=0.2.1->google-auth<3,>=1.6.3->tensorboard<2.9,>=2.8->tensorflow) (0.4.8)\n",
      "Requirement already satisfied: urllib3<1.27,>=1.21.1 in c:\\users\\fer-h\\anaconda3\\lib\\site-packages (from requests<3,>=2.21.0->tensorboard<2.9,>=2.8->tensorflow) (1.26.7)\n",
      "Requirement already satisfied: idna<4,>=2.5 in c:\\users\\fer-h\\anaconda3\\lib\\site-packages (from requests<3,>=2.21.0->tensorboard<2.9,>=2.8->tensorflow) (3.2)\n",
      "Requirement already satisfied: certifi>=2017.4.17 in c:\\users\\fer-h\\anaconda3\\lib\\site-packages (from requests<3,>=2.21.0->tensorboard<2.9,>=2.8->tensorflow) (2021.10.8)\n",
      "Requirement already satisfied: charset-normalizer~=2.0.0 in c:\\users\\fer-h\\anaconda3\\lib\\site-packages (from requests<3,>=2.21.0->tensorboard<2.9,>=2.8->tensorflow) (2.0.4)\n",
      "Requirement already satisfied: oauthlib>=3.0.0 in c:\\users\\fer-h\\anaconda3\\lib\\site-packages (from requests-oauthlib>=0.7.0->google-auth-oauthlib<0.5,>=0.4.1->tensorboard<2.9,>=2.8->tensorflow) (3.2.0)\n",
      "Collecting scalecast\n",
      "  Using cached SCALECAST-0.12.9-py3-none-any.whl\n",
      "Requirement already satisfied: openpyxl in c:\\users\\fer-h\\anaconda3\\lib\\site-packages (from scalecast) (3.0.9)\n",
      "Requirement already satisfied: scikit-learn in c:\\users\\fer-h\\anaconda3\\lib\\site-packages (from scalecast) (0.24.2)\n",
      "Requirement already satisfied: matplotlib in c:\\users\\fer-h\\anaconda3\\lib\\site-packages (from scalecast) (3.4.3)\n",
      "Requirement already satisfied: pandas in c:\\users\\fer-h\\anaconda3\\lib\\site-packages (from scalecast) (1.3.4)\n",
      "Requirement already satisfied: pandas-datareader in c:\\users\\fer-h\\anaconda3\\lib\\site-packages (from scalecast) (0.10.0)\n",
      "Requirement already satisfied: seaborn in c:\\users\\fer-h\\anaconda3\\lib\\site-packages (from scalecast) (0.11.2)\n",
      "Collecting shap\n",
      "  Using cached shap-0.41.0-cp39-cp39-win_amd64.whl (435 kB)\n",
      "Collecting xgboost\n",
      "  Using cached xgboost-1.6.1-py3-none-win_amd64.whl (125.4 MB)\n",
      "Requirement already satisfied: numba>= in c:\\users\\fer-h\\anaconda3\\lib\\site-packages (from scalecast) (0.54.1)\n",
      "Requirement already satisfied: numpy in c:\\users\\fer-h\\anaconda3\\lib\\site-packages (from scalecast) (1.22.4)\n",
      "Requirement already satisfied: scipy in c:\\users\\fer-h\\anaconda3\\lib\\site-packages (from scalecast) (1.7.1)\n",
      "Requirement already satisfied: tensorflow in c:\\users\\fer-h\\anaconda3\\lib\\site-packages (from scalecast) (2.8.0)\n",
      "Requirement already satisfied: statsmodels in c:\\users\\fer-h\\anaconda3\\lib\\site-packages (from scalecast) (0.12.2)\n",
      "Collecting lightgbm\n",
      "  Using cached lightgbm-3.3.2-py3-none-win_amd64.whl (1.0 MB)\n",
      "Collecting eli5\n",
      "  Using cached eli5-0.13.0.tar.gz (216 kB)\n",
      "Requirement already satisfied: llvmlite<0.38,>=0.37.0rc1 in c:\\users\\fer-h\\anaconda3\\lib\\site-packages (from numba>=->scalecast) (0.37.0)\n",
      "Requirement already satisfied: setuptools in c:\\users\\fer-h\\anaconda3\\lib\\site-packages (from numba>=->scalecast) (58.0.4)\n",
      "Collecting numpy\n",
      "  Downloading numpy-1.20.3-cp39-cp39-win_amd64.whl (13.7 MB)\n",
      "Requirement already satisfied: attrs>17.1.0 in c:\\users\\fer-h\\anaconda3\\lib\\site-packages (from eli5->scalecast) (21.2.0)\n",
      "Collecting jinja2>=3.0.0\n",
      "  Downloading Jinja2-3.1.2-py3-none-any.whl (133 kB)\n",
      "Requirement already satisfied: six in c:\\users\\fer-h\\anaconda3\\lib\\site-packages (from eli5->scalecast) (1.16.0)\n",
      "Collecting graphviz\n",
      "  Using cached graphviz-0.20-py3-none-any.whl (46 kB)\n",
      "Collecting tabulate>=0.7.7\n",
      "  Using cached tabulate-0.8.10-py3-none-any.whl (29 kB)\n",
      "Requirement already satisfied: MarkupSafe>=2.0 in c:\\users\\fer-h\\anaconda3\\lib\\site-packages (from jinja2>=3.0.0->eli5->scalecast) (2.0.1)\n",
      "Requirement already satisfied: joblib>=0.11 in c:\\users\\fer-h\\anaconda3\\lib\\site-packages (from scikit-learn->scalecast) (1.0.1)\n",
      "Requirement already satisfied: threadpoolctl>=2.0.0 in c:\\users\\fer-h\\anaconda3\\lib\\site-packages (from scikit-learn->scalecast) (2.2.0)\n",
      "Requirement already satisfied: wheel in c:\\users\\fer-h\\anaconda3\\lib\\site-packages (from lightgbm->scalecast) (0.37.0)\n",
      "Requirement already satisfied: pyparsing>=2.2.1 in c:\\users\\fer-h\\anaconda3\\lib\\site-packages (from matplotlib->scalecast) (3.0.4)\n",
      "Requirement already satisfied: pillow>=6.2.0 in c:\\users\\fer-h\\anaconda3\\lib\\site-packages (from matplotlib->scalecast) (8.4.0)\n",
      "Requirement already satisfied: cycler>=0.10 in c:\\users\\fer-h\\anaconda3\\lib\\site-packages (from matplotlib->scalecast) (0.10.0)\n",
      "Requirement already satisfied: kiwisolver>=1.0.1 in c:\\users\\fer-h\\anaconda3\\lib\\site-packages (from matplotlib->scalecast) (1.3.1)\n",
      "Requirement already satisfied: python-dateutil>=2.7 in c:\\users\\fer-h\\anaconda3\\lib\\site-packages (from matplotlib->scalecast) (2.8.2)\n",
      "Requirement already satisfied: et-xmlfile in c:\\users\\fer-h\\anaconda3\\lib\\site-packages (from openpyxl->scalecast) (1.1.0)\n",
      "Requirement already satisfied: pytz>=2017.3 in c:\\users\\fer-h\\anaconda3\\lib\\site-packages (from pandas->scalecast) (2021.3)\n",
      "Requirement already satisfied: lxml in c:\\users\\fer-h\\anaconda3\\lib\\site-packages (from pandas-datareader->scalecast) (4.6.3)\n",
      "Requirement already satisfied: requests>=2.19.0 in c:\\users\\fer-h\\anaconda3\\lib\\site-packages (from pandas-datareader->scalecast) (2.26.0)\n",
      "Requirement already satisfied: charset-normalizer~=2.0.0 in c:\\users\\fer-h\\anaconda3\\lib\\site-packages (from requests>=2.19.0->pandas-datareader->scalecast) (2.0.4)\n",
      "Requirement already satisfied: urllib3<1.27,>=1.21.1 in c:\\users\\fer-h\\anaconda3\\lib\\site-packages (from requests>=2.19.0->pandas-datareader->scalecast) (1.26.7)\n",
      "Requirement already satisfied: idna<4,>=2.5 in c:\\users\\fer-h\\anaconda3\\lib\\site-packages (from requests>=2.19.0->pandas-datareader->scalecast) (3.2)\n",
      "Requirement already satisfied: certifi>=2017.4.17 in c:\\users\\fer-h\\anaconda3\\lib\\site-packages (from requests>=2.19.0->pandas-datareader->scalecast) (2021.10.8)\n",
      "Collecting slicer==0.0.7\n",
      "  Using cached slicer-0.0.7-py3-none-any.whl (14 kB)\n",
      "Requirement already satisfied: cloudpickle in c:\\users\\fer-h\\anaconda3\\lib\\site-packages (from shap->scalecast) (2.0.0)\n",
      "Requirement already satisfied: packaging>20.9 in c:\\users\\fer-h\\anaconda3\\lib\\site-packages (from shap->scalecast) (21.0)\n",
      "Requirement already satisfied: tqdm>4.25.0 in c:\\users\\fer-h\\anaconda3\\lib\\site-packages (from shap->scalecast) (4.62.3)\n",
      "Requirement already satisfied: colorama in c:\\users\\fer-h\\anaconda3\\lib\\site-packages (from tqdm>4.25.0->shap->scalecast) (0.4.4)\n",
      "Requirement already satisfied: patsy>=0.5 in c:\\users\\fer-h\\anaconda3\\lib\\site-packages (from statsmodels->scalecast) (0.5.2)\n",
      "Requirement already satisfied: absl-py>=0.4.0 in c:\\users\\fer-h\\anaconda3\\lib\\site-packages (from tensorflow->scalecast) (1.0.0)\n",
      "Requirement already satisfied: h5py>=2.9.0 in c:\\users\\fer-h\\anaconda3\\lib\\site-packages (from tensorflow->scalecast) (3.2.1)\n",
      "Requirement already satisfied: protobuf>=3.9.2 in c:\\users\\fer-h\\anaconda3\\lib\\site-packages (from tensorflow->scalecast) (3.20.1)\n",
      "Requirement already satisfied: libclang>=9.0.1 in c:\\users\\fer-h\\anaconda3\\lib\\site-packages (from tensorflow->scalecast) (14.0.1)\n",
      "Requirement already satisfied: gast>=0.2.1 in c:\\users\\fer-h\\anaconda3\\lib\\site-packages (from tensorflow->scalecast) (0.5.3)\n",
      "Requirement already satisfied: astunparse>=1.6.0 in c:\\users\\fer-h\\anaconda3\\lib\\site-packages (from tensorflow->scalecast) (1.6.3)\n",
      "Requirement already satisfied: tf-estimator-nightly==2.8.0.dev2021122109 in c:\\users\\fer-h\\anaconda3\\lib\\site-packages (from tensorflow->scalecast) (2.8.0.dev2021122109)\n",
      "Requirement already satisfied: tensorboard<2.9,>=2.8 in c:\\users\\fer-h\\anaconda3\\lib\\site-packages (from tensorflow->scalecast) (2.8.0)\n",
      "Requirement already satisfied: termcolor>=1.1.0 in c:\\users\\fer-h\\anaconda3\\lib\\site-packages (from tensorflow->scalecast) (1.1.0)\n",
      "Requirement already satisfied: flatbuffers>=1.12 in c:\\users\\fer-h\\anaconda3\\lib\\site-packages (from tensorflow->scalecast) (2.0)\n",
      "Requirement already satisfied: keras-preprocessing>=1.1.1 in c:\\users\\fer-h\\anaconda3\\lib\\site-packages (from tensorflow->scalecast) (1.1.2)\n",
      "Requirement already satisfied: wrapt>=1.11.0 in c:\\users\\fer-h\\anaconda3\\lib\\site-packages (from tensorflow->scalecast) (1.12.1)\n",
      "Requirement already satisfied: google-pasta>=0.1.1 in c:\\users\\fer-h\\anaconda3\\lib\\site-packages (from tensorflow->scalecast) (0.2.0)\n",
      "Requirement already satisfied: keras<2.9,>=2.8.0rc0 in c:\\users\\fer-h\\anaconda3\\lib\\site-packages (from tensorflow->scalecast) (2.8.0)\n",
      "Requirement already satisfied: grpcio<2.0,>=1.24.3 in c:\\users\\fer-h\\anaconda3\\lib\\site-packages (from tensorflow->scalecast) (1.46.0)\n",
      "Requirement already satisfied: typing-extensions>=3.6.6 in c:\\users\\fer-h\\anaconda3\\lib\\site-packages (from tensorflow->scalecast) (3.10.0.2)\n",
      "Requirement already satisfied: opt-einsum>=2.3.2 in c:\\users\\fer-h\\anaconda3\\lib\\site-packages (from tensorflow->scalecast) (3.3.0)\n",
      "Requirement already satisfied: tensorflow-io-gcs-filesystem>=0.23.1 in c:\\users\\fer-h\\anaconda3\\lib\\site-packages (from tensorflow->scalecast) (0.25.0)\n",
      "Requirement already satisfied: google-auth-oauthlib<0.5,>=0.4.1 in c:\\users\\fer-h\\anaconda3\\lib\\site-packages (from tensorboard<2.9,>=2.8->tensorflow->scalecast) (0.4.6)\n",
      "Requirement already satisfied: werkzeug>=0.11.15 in c:\\users\\fer-h\\anaconda3\\lib\\site-packages (from tensorboard<2.9,>=2.8->tensorflow->scalecast) (2.0.2)\n",
      "Requirement already satisfied: google-auth<3,>=1.6.3 in c:\\users\\fer-h\\anaconda3\\lib\\site-packages (from tensorboard<2.9,>=2.8->tensorflow->scalecast) (2.6.6)\n",
      "Requirement already satisfied: markdown>=2.6.8 in c:\\users\\fer-h\\anaconda3\\lib\\site-packages (from tensorboard<2.9,>=2.8->tensorflow->scalecast) (3.3.7)\n",
      "Requirement already satisfied: tensorboard-data-server<0.7.0,>=0.6.0 in c:\\users\\fer-h\\anaconda3\\lib\\site-packages (from tensorboard<2.9,>=2.8->tensorflow->scalecast) (0.6.1)\n",
      "Requirement already satisfied: tensorboard-plugin-wit>=1.6.0 in c:\\users\\fer-h\\anaconda3\\lib\\site-packages (from tensorboard<2.9,>=2.8->tensorflow->scalecast) (1.8.1)\n",
      "Requirement already satisfied: pyasn1-modules>=0.2.1 in c:\\users\\fer-h\\anaconda3\\lib\\site-packages (from google-auth<3,>=1.6.3->tensorboard<2.9,>=2.8->tensorflow->scalecast) (0.2.8)\n",
      "Requirement already satisfied: cachetools<6.0,>=2.0.0 in c:\\users\\fer-h\\anaconda3\\lib\\site-packages (from google-auth<3,>=1.6.3->tensorboard<2.9,>=2.8->tensorflow->scalecast) (5.0.0)\n",
      "Requirement already satisfied: rsa<5,>=3.1.4 in c:\\users\\fer-h\\anaconda3\\lib\\site-packages (from google-auth<3,>=1.6.3->tensorboard<2.9,>=2.8->tensorflow->scalecast) (4.8)\n",
      "Requirement already satisfied: requests-oauthlib>=0.7.0 in c:\\users\\fer-h\\anaconda3\\lib\\site-packages (from google-auth-oauthlib<0.5,>=0.4.1->tensorboard<2.9,>=2.8->tensorflow->scalecast) (1.3.1)\n",
      "Requirement already satisfied: importlib-metadata>=4.4 in c:\\users\\fer-h\\anaconda3\\lib\\site-packages (from markdown>=2.6.8->tensorboard<2.9,>=2.8->tensorflow->scalecast) (4.8.1)\n",
      "Requirement already satisfied: zipp>=0.5 in c:\\users\\fer-h\\anaconda3\\lib\\site-packages (from importlib-metadata>=4.4->markdown>=2.6.8->tensorboard<2.9,>=2.8->tensorflow->scalecast) (3.6.0)\n",
      "Requirement already satisfied: pyasn1<0.5.0,>=0.4.6 in c:\\users\\fer-h\\anaconda3\\lib\\site-packages (from pyasn1-modules>=0.2.1->google-auth<3,>=1.6.3->tensorboard<2.9,>=2.8->tensorflow->scalecast) (0.4.8)\n",
      "Requirement already satisfied: oauthlib>=3.0.0 in c:\\users\\fer-h\\anaconda3\\lib\\site-packages (from requests-oauthlib>=0.7.0->google-auth-oauthlib<0.5,>=0.4.1->tensorboard<2.9,>=2.8->tensorflow->scalecast) (3.2.0)\n",
      "Building wheels for collected packages: eli5\n",
      "  Building wheel for eli5 (setup.py): started\n",
      "  Building wheel for eli5 (setup.py): finished with status 'done'\n",
      "  Created wheel for eli5: filename=eli5-0.13.0-py2.py3-none-any.whl size=107748 sha256=8ea02035c38a149a73344331e5dd4d9e8df52aebefe6e2b06e96cf0b0c6b5fae\n",
      "  Stored in directory: c:\\users\\fer-h\\appdata\\local\\pip\\cache\\wheels\\7b\\26\\a5\\8460416695a992a2966b41caa5338e5e7fcea98c9d032d055c\n",
      "Successfully built eli5\n",
      "Installing collected packages: numpy, tabulate, slicer, jinja2, graphviz, xgboost, shap, lightgbm, eli5, scalecast\n",
      "  Attempting uninstall: numpy\n",
      "    Found existing installation: numpy 1.22.4\n",
      "    Uninstalling numpy-1.22.4:\n",
      "      Successfully uninstalled numpy-1.22.4\n"
     ]
    },
    {
     "name": "stderr",
     "output_type": "stream",
     "text": [
      "ERROR: Could not install packages due to an OSError: [WinError 5] Access is denied: 'C:\\\\Users\\\\fer-h\\\\anaconda3\\\\Lib\\\\site-packages\\\\~~mpy\\\\.libs\\\\libopenblas.EL2C6PLE4ZYW3ECEVIV3OXXGRN2NRFM2.gfortran-win_amd64.dll'\n",
      "Consider using the `--user` option or check the permissions.\n",
      "\n"
     ]
    }
   ],
   "source": [
    "!pip install tensorflow\n",
    "!pip install scalecast --upgrade \n"
   ]
  },
  {
   "cell_type": "code",
   "execution_count": 4,
   "metadata": {},
   "outputs": [
    {
     "ename": "ModuleNotFoundError",
     "evalue": "No module named 'scalecast'",
     "output_type": "error",
     "traceback": [
      "\u001b[1;31m---------------------------------------------------------------------------\u001b[0m",
      "\u001b[1;31mModuleNotFoundError\u001b[0m                       Traceback (most recent call last)",
      "\u001b[1;32m~\\AppData\\Local\\Temp\\ipykernel_12020\\1333241710.py\u001b[0m in \u001b[0;36m<module>\u001b[1;34m\u001b[0m\n\u001b[1;32m----> 1\u001b[1;33m \u001b[1;32mfrom\u001b[0m \u001b[0mscalecast\u001b[0m\u001b[1;33m.\u001b[0m\u001b[0mForecaster\u001b[0m \u001b[1;32mimport\u001b[0m \u001b[0mForecaster\u001b[0m\u001b[1;33m\u001b[0m\u001b[1;33m\u001b[0m\u001b[0m\n\u001b[0m\u001b[0;32m      2\u001b[0m \u001b[0msns\u001b[0m\u001b[1;33m.\u001b[0m\u001b[0mset\u001b[0m\u001b[1;33m(\u001b[0m\u001b[0mrc\u001b[0m\u001b[1;33m=\u001b[0m\u001b[1;33m{\u001b[0m\u001b[1;34m'figure.figsize'\u001b[0m\u001b[1;33m:\u001b[0m\u001b[1;33m(\u001b[0m\u001b[1;36m15\u001b[0m\u001b[1;33m,\u001b[0m\u001b[1;36m8\u001b[0m\u001b[1;33m)\u001b[0m\u001b[1;33m}\u001b[0m\u001b[1;33m)\u001b[0m\u001b[1;33m\u001b[0m\u001b[1;33m\u001b[0m\u001b[0m\n",
      "\u001b[1;31mModuleNotFoundError\u001b[0m: No module named 'scalecast'"
     ]
    }
   ],
   "source": [
    "\n",
    "from scalecast.Forecaster import Forecaster\n",
    "sns.set(rc={'figure.figsize':(15,8)})\n"
   ]
  },
  {
   "cell_type": "code",
   "execution_count": null,
   "metadata": {},
   "outputs": [],
   "source": [
    "df=pd.read_csv(\"data/sinaloa_production.csv\", index_col=\"DATE\", parse_dates=True)\n",
    "df"
   ]
  }
 ],
 "metadata": {
  "kernelspec": {
   "display_name": "Python 3.9.7 ('base')",
   "language": "python",
   "name": "python3"
  },
  "language_info": {
   "codemirror_mode": {
    "name": "ipython",
    "version": 3
   },
   "file_extension": ".py",
   "mimetype": "text/x-python",
   "name": "python",
   "nbconvert_exporter": "python",
   "pygments_lexer": "ipython3",
   "version": "3.9.7"
  },
  "orig_nbformat": 4,
  "vscode": {
   "interpreter": {
    "hash": "07ec8f9646e375d23574612bb75cafb21e131e7161b9e98028c97e47027d79f9"
   }
  }
 },
 "nbformat": 4,
 "nbformat_minor": 2
}
