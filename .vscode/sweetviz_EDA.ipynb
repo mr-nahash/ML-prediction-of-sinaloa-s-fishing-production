{
 "cells": [
  {
   "cell_type": "code",
   "execution_count": null,
   "metadata": {},
   "outputs": [],
   "source": []
  },
  {
   "cell_type": "code",
   "execution_count": null,
   "metadata": {},
   "outputs": [],
   "source": []
  },
  {
   "cell_type": "code",
   "execution_count": null,
   "metadata": {},
   "outputs": [],
   "source": [
    "%pip install pandas-profiling\n",
    "from pandas_profiling import ProfileReport\n",
    "profile=ProfileReport(df3, title='Pandas Profiling Report',explorative=True)\n",
    "profile.to_file('Pandas Profiling Report')\n",
    "from IPython.core.display import display, HTML\n",
    "display(HTML('Pandas Profiling Report.html'))"
   ]
  }
 ],
 "metadata": {
  "kernelspec": {
   "display_name": "Python 3.9.13 64-bit (windows store)",
   "language": "python",
   "name": "python3"
  },
  "language_info": {
   "name": "python",
   "version": "3.9.13"
  },
  "orig_nbformat": 4,
  "vscode": {
   "interpreter": {
    "hash": "25e4b52398945eec879a394ffbfe7018fb835cdeec292fe0243e366b6f5ea559"
   }
  }
 },
 "nbformat": 4,
 "nbformat_minor": 2
}
