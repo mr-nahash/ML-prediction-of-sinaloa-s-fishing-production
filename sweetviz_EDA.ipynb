{
 "cells": [
  {
   "cell_type": "code",
   "execution_count": null,
   "metadata": {},
   "outputs": [],
   "source": []
  },
  {
   "cell_type": "code",
   "execution_count": null,
   "metadata": {},
   "outputs": [],
   "source": []
  },
  {
   "cell_type": "code",
   "execution_count": null,
   "metadata": {},
   "outputs": [],
   "source": [
    "%pip install pandas-profiling\n",
    "from pandas_profiling import ProfileReport\n",
    "profile=ProfileReport(df3, title='Pandas Profiling Report',explorative=True)\n",
    "profile.to_file('Pandas Profiling Report')\n",
    "from IPython.core.display import display, HTML\n",
    "display(HTML('Pandas Profiling Report.html'))"
   ]
  }
 ],
 "metadata": {
  "language_info": {
   "name": "python"
  },
  "orig_nbformat": 4
 },
 "nbformat": 4,
 "nbformat_minor": 2
}
