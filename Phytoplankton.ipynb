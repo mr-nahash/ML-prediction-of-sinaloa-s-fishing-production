{
    "cells": [
        {
            "cell_type": "code",
            "execution_count": 1,
            "metadata": {},
            "outputs": [
                {
                    "ename": "SyntaxError",
                    "evalue": "cannot assign to operator (Temp/ipykernel_11028/4276390826.py, line 1)",
                    "output_type": "error",
                    "traceback": [
                        "\u001b[1;36m  File \u001b[1;32m\"C:\\Users\\fer-h\\AppData\\Local\\Temp/ipykernel_11028/4276390826.py\"\u001b[1;36m, line \u001b[1;32m1\u001b[0m\n\u001b[1;33m    wget -q --post-data=\"sensor=octs&sdate=1996-11-01&edate=1997-01-01&dtype=L3b&addurl=1&results_as_file=1&search=*DAY_CHL*\" -O - https://oceandata.sci.gsfc.nasa.gov/api/file_search\u001b[0m\n\u001b[1;37m    ^\u001b[0m\n\u001b[1;31mSyntaxError\u001b[0m\u001b[1;31m:\u001b[0m cannot assign to operator\n"
                    ]
                }
            ],
            "source": [
                "wget -q --post-data=\"sensor=octs&sdate=1996-11-01&edate=1997-01-01&dtype=L3b&addurl=1&results_as_file=1&search=*DAY_CHL*\" -O - https://oceandata.sci.gsfc.nasa.gov/api/file_search"
            ]
        },
        {
            "cell_type": "code",
            "execution_count": null,
            "metadata": {},
            "outputs": [],
            "source": []
        }
    ],
    "jupyter.jupyterServerType": "remote",
    "metadata": {
        "interpreter": {
            "hash": "59c1500613933b3f941f785f9a270f9c58af713752f0e6db88e9e35c6b2b27c7"
        },
        "kernelspec": {
            "display_name": "Python 3.9.7 ('base')",
            "language": "python",
            "name": "python3"
        },
        "language_info": {
            "codemirror_mode": {
                "name": "ipython",
                "version": 3
            },
            "file_extension": ".py",
            "mimetype": "text/x-python",
            "name": "python",
            "nbconvert_exporter": "python",
            "pygments_lexer": "ipython3",
            "version": "3.9.7"
        },
        "orig_nbformat": 4
    },
    "nbformat": 4,
    "nbformat_minor": 2
}
